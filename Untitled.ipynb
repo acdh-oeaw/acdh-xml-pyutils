{
 "cells": [
  {
   "cell_type": "code",
   "execution_count": 14,
   "id": "collective-scott",
   "metadata": {},
   "outputs": [],
   "source": [
    "from collections import Counter"
   ]
  },
  {
   "cell_type": "code",
   "execution_count": 1,
   "id": "aware-aquatic",
   "metadata": {},
   "outputs": [],
   "source": [
    "from acdh_xml_pyutils.xml import XMLReader"
   ]
  },
  {
   "cell_type": "code",
   "execution_count": 2,
   "id": "conservative-index",
   "metadata": {},
   "outputs": [],
   "source": [
    "doc = XMLReader(xml='./acdh_xml_pyutils/files/tei.xml')"
   ]
  },
  {
   "cell_type": "code",
   "execution_count": 5,
   "id": "gothic-mounting",
   "metadata": {},
   "outputs": [],
   "source": [
    "tree = doc.tree"
   ]
  },
  {
   "cell_type": "code",
   "execution_count": 17,
   "id": "psychological-residence",
   "metadata": {},
   "outputs": [],
   "source": [
    "all_elements = [element.tag for element in tree.iter()]"
   ]
  },
  {
   "cell_type": "code",
   "execution_count": 22,
   "id": "imported-beijing",
   "metadata": {},
   "outputs": [
    {
     "data": {
      "text/plain": [
       "dict_keys(['{http://www.tei-c.org/ns/1.0}TEI', '{http://www.tei-c.org/ns/1.0}teiHeader', '{http://www.tei-c.org/ns/1.0}fileDesc', '{http://www.tei-c.org/ns/1.0}titleStmt', '{http://www.tei-c.org/ns/1.0}title', '{http://www.tei-c.org/ns/1.0}rs', '{http://www.tei-c.org/ns/1.0}lb', '{http://www.tei-c.org/ns/1.0}date', '{http://www.tei-c.org/ns/1.0}publicationStmt', '{http://www.tei-c.org/ns/1.0}p', '{http://www.tei-c.org/ns/1.0}idno', '{http://www.tei-c.org/ns/1.0}sourceDesc', '{http://www.tei-c.org/ns/1.0}msDesc', '{http://www.tei-c.org/ns/1.0}msIdentifier', '{http://www.tei-c.org/ns/1.0}institution', '{http://www.tei-c.org/ns/1.0}repository', '{http://www.tei-c.org/ns/1.0}msContents', '{http://www.tei-c.org/ns/1.0}physDesc', '{http://www.tei-c.org/ns/1.0}profileDesc', '{http://www.tei-c.org/ns/1.0}correspDesc', '{http://www.tei-c.org/ns/1.0}correspAction', '{http://www.tei-c.org/ns/1.0}settlement', '{http://www.tei-c.org/ns/1.0}revisionDesc', '{http://www.tei-c.org/ns/1.0}list', '{http://www.tei-c.org/ns/1.0}item', '{http://www.tei-c.org/ns/1.0}text', '{http://www.tei-c.org/ns/1.0}body', '{http://www.tei-c.org/ns/1.0}div', '{http://www.tei-c.org/ns/1.0}index', '{http://www.tei-c.org/ns/1.0}term', '{http://www.tei-c.org/ns/1.0}note'])"
      ]
     },
     "execution_count": 22,
     "metadata": {},
     "output_type": "execute_result"
    }
   ],
   "source": [
    "hansi.keys()"
   ]
  },
  {
   "cell_type": "code",
   "execution_count": 19,
   "id": "choice-lucas",
   "metadata": {},
   "outputs": [],
   "source": [
    "hansi = Counter(all_elements)"
   ]
  },
  {
   "cell_type": "code",
   "execution_count": 20,
   "id": "greatest-glasgow",
   "metadata": {},
   "outputs": [
    {
     "data": {
      "text/plain": [
       "collections.Counter"
      ]
     },
     "execution_count": 20,
     "metadata": {},
     "output_type": "execute_result"
    }
   ],
   "source": [
    "type(hansi)"
   ]
  },
  {
   "cell_type": "code",
   "execution_count": null,
   "id": "wrapped-generation",
   "metadata": {},
   "outputs": [],
   "source": []
  }
 ],
 "metadata": {
  "kernelspec": {
   "display_name": "Python 3.8.5 64-bit ('env': venv)",
   "language": "python",
   "name": "python38564bitenvvenv46f3f1f637f345a6a12c74743c7102f0"
  },
  "language_info": {
   "codemirror_mode": {
    "name": "ipython",
    "version": 3
   },
   "file_extension": ".py",
   "mimetype": "text/x-python",
   "name": "python",
   "nbconvert_exporter": "python",
   "pygments_lexer": "ipython3",
   "version": "3.8.5"
  }
 },
 "nbformat": 4,
 "nbformat_minor": 5
}
